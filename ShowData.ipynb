{
 "cells": [
  {
   "cell_type": "code",
   "execution_count": 3,
   "id": "9b20a1f2",
   "metadata": {},
   "outputs": [
    {
     "name": "stderr",
     "output_type": "stream",
     "text": [
      "24/05/20 12:15:15 WARN package: Truncated the string representation of a plan since it was too large. This behavior can be adjusted by setting 'spark.sql.debug.maxToStringFields'.\n"
     ]
    },
    {
     "name": "stdout",
     "output_type": "stream",
     "text": [
      "+----------+---+------+-----------+-----------+------------+----------+--------+--------------+-------+-------+-------------------+-----------------------+---------+-----------------------+--------------+------------+-----------------------+------+-----------+-------------+-------------------------------+-------------------+-------------+-------------+-------------------+-----------------+\n",
      "|Patient ID|Age|   Sex|Cholesterol|Systolic_BP|Diastolic_BP|Heart Rate|Diabetes|Family History|Smoking|Obesity|Alcohol Consumption|Exercise Hours Per Week|     Diet|Previous Heart Problems|Medication Use|Stress Level|Sedentary Hours Per Day|Income|        BMI|Triglycerides|Physical Activity Days Per Week|Sleep Hours Per Day|      Country|    Continent|         Hemisphere|Heart Attack Risk|\n",
      "+----------+---+------+-----------+-----------+------------+----------+--------+--------------+-------+-------+-------------------+-----------------------+---------+-----------------------+--------------+------------+-----------------------+------+-----------+-------------+-------------------------------+-------------------+-------------+-------------+-------------------+-----------------+\n",
      "|   BMW7812| 67|  Male|        208|        158|          88|        72|       0|             0|      1|      0|                  0|            4.168188835|  Average|                      0|             0|          99|            6.615001453|261404|31.25123273|          286|                              0|               null|    Argentina|South America|Southern Hemisphere|                0|\n",
      "|   CZE1114| 21|  Male|        389|        165|          93|        98|       1|             1|      1|      1|                  1|            1.813241618|Unhealthy|                      1|             0|           1|             4.96345884|285768|27.19497335|          235|                              1|               null|       Canada|North America|Northern Hemisphere|                0|\n",
      "|   BNI9906| 21|Female|        324|        174|          99|        72|       1|             0|      0|      0|                  0|            2.078352986|  Healthy|                      1|             1|           9|            9.463425838|235282|28.17657068|          587|                              4|               null|       France|       Europe|Northern Hemisphere|                0|\n",
      "|   JLN3497| 84|  Male|        383|        163|         100|        73|       1|             1|      1|      0|                  1|            9.828129593|  Average|                      1|             0|           9|            7.648980824|125640|36.46470429|          378|                              3|               null|       Canada|North America|Northern Hemisphere|                0|\n",
      "|   GFO8847| 66|  Male|        318|         91|          88|        93|       1|             1|      1|      1|                  0|             5.80429882|Unhealthy|                      1|             0|           6|            1.514820926|160555|21.80914418|          231|                              1|               null|     Thailand|         Asia|Northern Hemisphere|                0|\n",
      "|   ZOO7941| 54|Female|        297|        172|          86|        48|       1|             1|      1|      0|                  1|            0.625008024|Unhealthy|                      1|             1|           2|            7.798752409|241339| 20.1468395|          795|                              5|               null|      Germany|       Europe|Northern Hemisphere|                1|\n",
      "|   WYV0966| 90|  Male|        600|        102|          73|        84|       0|             0|      1|      0|                  1|            4.098177091|  Healthy|                      0|             0|          78|            0.627356001|190450|28.88581061|          284|                              4|               null|       Canada|North America|Northern Hemisphere|                1|\n",
      "|   XXM0972| 84|  Male|        220|        131|          68|       107|       0|             0|      1|      1|                  1|            3.427928754|  Average|                      0|             1|           4|            10.54378024|122093|22.22186174|          370|                              6|               null|        Japan|         Asia|Northern Hemisphere|                1|\n",
      "|   XCQ5937| 20|  Male|        145|        144|         105|        68|       1|             0|      1|      1|                  0|            16.86830224|  Average|                      0|             0|           5|            11.34878687| 25086|35.80990132|          790|                              7|               null|       Brazil|South America|Southern Hemisphere|                0|\n",
      "|   FTJ5456| 43|Female|        248|        160|          70|        55|       0|             1|      1|      1|                  1|            0.194515061|Unhealthy|                      0|             0|           4|            4.055114782|209703|22.55891675|          232|                              7|               null|        Japan|         Asia|Northern Hemisphere|                0|\n",
      "|   HSD6283| 73|Female|        373|        107|          69|        97|       1|             1|      1|      0|                  1|            16.84198759|  Average|                      1|             1|           8|            8.919879241| 50030|22.86791077|          469|                              0|               null| South Africa|       Africa|Southern Hemisphere|                0|\n",
      "|   YSP0073| 71|  Male|        374|        158|          71|        70|       1|             1|      1|      1|                  1|            8.251995072|  Average|                      0|             0|           4|            7.227338314|163066|32.48534524|          523|                              4|               null|United States|North America|Northern Hemisphere|                0|\n",
      "|   FPS0415| 77|  Male|        228|        101|          72|        68|       1|             1|      1|      1|                  1|            19.63326816|Unhealthy|                      0|             0|           9|            10.91752425| 29886|35.10223615|          590|                              7|               null|      Vietnam|         Asia|Northern Hemisphere|                1|\n",
      "|   YYU9565| 60|  Male|        259|        169|          72|        85|       1|             1|      1|      0|                  1|            17.03737418|  Healthy|                      1|             1|           1|            8.727417212|292173|25.56489715|          506|                              1|               null|        China|         Asia|Northern Hemisphere|                1|\n",
      "|   VTW9069| 88|  Male|        297|        112|          81|       102|       1|             1|      1|      0|                  1|            15.38760463|Unhealthy|                      0|             1|           2|            10.42548958|165300|25.49174066|          635|                              3|               null|        China|         Asia|Northern Hemisphere|                0|\n",
      "|   DCY3282| 73|  Male|        122|        114|          88|        97|       1|             1|      1|      0|                  1|             14.5596645|  Average|                      0|             0|           5|            10.08647897|265839|36.52439524|          773|                              5|               null|        Italy|       Europe|Southern Hemisphere|                1|\n",
      "|   DXB2434| 69|  Male|        379|        173|          75|        40|       1|             1|      1|      1|                  1|            4.184648046|  Average|                      1|             0|           5|            9.060508568|267997| 28.3327472|           68|                              3|               null|       Brazil|South America|Southern Hemisphere|                0|\n",
      "|   COP0566| 38|  Male|        166|        120|          74|        56|       1|             0|      1|      1|                  0|             8.91790723|  Healthy|                      0|             1|           9|            3.660748791| 48376|29.51738756|          402|                              0|               null|     Thailand|         Asia|Northern Hemisphere|                0|\n",
      "|   XBI0592| 50|Female|        303|        120|         100|       104|       1|             0|      1|      0|                  1|            4.943580247|  Average|                      1|             1|           1|            7.586983941| 21501|25.96435073|          517|                              1|               null|United States|North America|Northern Hemisphere|                1|\n",
      "|   RQX1211| 60|  Male|        145|        160|          98|        71|       1|             0|      1|      0|                  1|             1.89255933|  Healthy|                      1|             0|           8|             5.99422791|234966|29.16231875|          247|                              7|               null|       Canada|North America|Northern Hemisphere|                0|\n",
      "+----------+---+------+-----------+-----------+------------+----------+--------+--------------+-------+-------+-------------------+-----------------------+---------+-----------------------+--------------+------------+-----------------------+------+-----------+-------------+-------------------------------+-------------------+-------------+-------------+-------------------+-----------------+\n",
      "only showing top 20 rows\n",
      "\n",
      "root\n",
      " |-- Patient ID: string (nullable = true)\n",
      " |-- Age: integer (nullable = true)\n",
      " |-- Sex: string (nullable = true)\n",
      " |-- Cholesterol: integer (nullable = true)\n",
      " |-- Systolic_BP: integer (nullable = true)\n",
      " |-- Diastolic_BP: integer (nullable = true)\n",
      " |-- Heart Rate: integer (nullable = true)\n",
      " |-- Diabetes: integer (nullable = true)\n",
      " |-- Family History: integer (nullable = true)\n",
      " |-- Smoking: integer (nullable = true)\n",
      " |-- Obesity: integer (nullable = true)\n",
      " |-- Alcohol Consumption: integer (nullable = true)\n",
      " |-- Exercise Hours Per Week: double (nullable = true)\n",
      " |-- Diet: string (nullable = true)\n",
      " |-- Previous Heart Problems: integer (nullable = true)\n",
      " |-- Medication Use: integer (nullable = true)\n",
      " |-- Stress Level: string (nullable = true)\n",
      " |-- Sedentary Hours Per Day: double (nullable = true)\n",
      " |-- Income: integer (nullable = true)\n",
      " |-- BMI: double (nullable = true)\n",
      " |-- Triglycerides: integer (nullable = true)\n",
      " |-- Physical Activity Days Per Week: integer (nullable = true)\n",
      " |-- Sleep Hours Per Day: integer (nullable = true)\n",
      " |-- Country: string (nullable = true)\n",
      " |-- Continent: string (nullable = true)\n",
      " |-- Hemisphere: string (nullable = true)\n",
      " |-- Heart Attack Risk: integer (nullable = true)\n",
      "\n"
     ]
    }
   ],
   "source": [
    "from pyspark.sql import SparkSession\n",
    "spark = SparkSession.builder \\\n",
    "    .appName(\"Heart Attack Risk Prediction\") \\\n",
    "    .getOrCreate()\n",
    "df = spark.read.csv(\"heart_attack_prediction_dataset.csv\", header=True, inferSchema=True)\n",
    "from pyspark.sql.functions import col, isnan, when, count\n",
    "\n",
    "# Displaying basic information and the first few rows of the DataFrame\n",
    "df.show()\n",
    "df.printSchema()"
   ]
  },
  {
   "cell_type": "code",
   "execution_count": null,
   "id": "5346013a",
   "metadata": {},
   "outputs": [],
   "source": []
  },
  {
   "cell_type": "code",
   "execution_count": null,
   "id": "c10b1ca1",
   "metadata": {},
   "outputs": [],
   "source": []
  }
 ],
 "metadata": {
  "kernelspec": {
   "display_name": "Python 3 (ipykernel)",
   "language": "python",
   "name": "python3"
  },
  "language_info": {
   "codemirror_mode": {
    "name": "ipython",
    "version": 3
   },
   "file_extension": ".py",
   "mimetype": "text/x-python",
   "name": "python",
   "nbconvert_exporter": "python",
   "pygments_lexer": "ipython3",
   "version": "3.10.4"
  }
 },
 "nbformat": 4,
 "nbformat_minor": 5
}
